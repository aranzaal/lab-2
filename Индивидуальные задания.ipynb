{
 "cells": [
  {
   "cell_type": "code",
   "execution_count": 2,
   "id": "52f93dd9-6635-4d53-abd3-3ce7b68aa4da",
   "metadata": {},
   "outputs": [
    {
     "name": "stdout",
     "output_type": "stream",
     "text": [
      "Матрица, умноженная на 2: \n",
      " [[ 2 10 14]\n",
      " [ 4 12 18]\n",
      " [ 8 16  6]]\n",
      "Матрица с заменёнными элементами: \n",
      " [[ 2 10  0]\n",
      " [ 4  0  0]\n",
      " [ 8  0  6]]\n"
     ]
    }
   ],
   "source": [
    "import numpy as np\n",
    "matrix = np.matrix(\"1,5,7;2,6,9;4,8,3\")\n",
    "mul = matrix * 2\n",
    "print(\"Матрица, умноженная на 2: \\n\", mul)\n",
    "mul[mul > 10] = 0\n",
    "print(\"Матрица с заменёнными элементами: \\n\",mul)"
   ]
  },
  {
   "cell_type": "code",
   "execution_count": 3,
   "id": "18c45cc3-a2dc-4e20-9185-1452adb44320",
   "metadata": {},
   "outputs": [
    {
     "name": "stdout",
     "output_type": "stream",
     "text": [
      "[17 42 65 62 65 74 77 34 13 74 53 89 63 84 61  5 86 68 24 77]\n",
      "Элементы, делящиеся на 5 без остатка:\n",
      " [65 65  5]\n",
      "Обновлённый массив:\n",
      " [17 42 -1 62 -1 74 77 34 13 74 53 89 63 84 61 -1 86 68 24 77]\n"
     ]
    }
   ],
   "source": [
    "arr = np.random.randint(1, 101, 20)\n",
    "print(arr)\n",
    "div_5 = arr[arr % 5 == 0]\n",
    "print(\"Элементы, делящиеся на 5 без остатка:\\n\", div_5)\n",
    "arr[arr % 5 == 0] = -1\n",
    "print(\"Обновлённый массив:\\n\", arr)"
   ]
  },
  {
   "cell_type": "code",
   "execution_count": 5,
   "id": "7bbcc390-56d8-4889-9d8a-3e1a49a9672c",
   "metadata": {},
   "outputs": [
    {
     "name": "stdout",
     "output_type": "stream",
     "text": [
      "Первый массив:\n",
      " [24 45 35 34 11]\n",
      "Второй массив:\n",
      " [19 11 13  4  4]\n",
      "Объединенный массив:\n",
      " [[24 45 35 34 11]\n",
      " [19 11 13  4  4]]\n",
      "Разделенные массивы: \n",
      " Первый: [[24 45 35 34 11]] \n",
      " Второй: [[19 11 13  4  4]]\n"
     ]
    }
   ],
   "source": [
    "a = np.random.randint(0, 51, 5)\n",
    "print(\"Первый массив:\\n\", a)\n",
    "b = np.random.randint(0, 51, 5)\n",
    "print(\"Второй массив:\\n\", b)\n",
    "ab = np.vstack((a,b))\n",
    "print(\"Объединенный массив:\\n\", ab)\n",
    "a1, b1 = np.vsplit(ab, 2)\n",
    "print(\"Разделенные массивы: \\n Первый:\", a1, \"\\n Второй:\", b1)"
   ]
  },
  {
   "cell_type": "code",
   "execution_count": 6,
   "id": "fe53698e-9ca1-490b-89cf-3bcc0a8aa628",
   "metadata": {},
   "outputs": [
    {
     "name": "stdout",
     "output_type": "stream",
     "text": [
      "Созданный массив:  [ -1   2  -5  -9   5 -10  -4  -9  -1  -4   5   6  -1  -4   4   2   7  -9\n",
      "   6  -6  10   1   9   7  -8   3   0   9  -2   0  10   0  -5  -2  -4  10\n",
      "  -4   0  -7  -8   8  10   9  -7   6   4  -5   2  -9  -8]\n",
      "Сумма всех элементов:  3\n",
      "Сумма положительных элементов:  135\n",
      "Сумма отрицательных элементов:  -132\n"
     ]
    }
   ],
   "source": [
    "a = np.random.randint(-10, 11, 50)\n",
    "print(\"Созданный массив: \", a)\n",
    "summ_all = np.sum(a)\n",
    "print (\"Сумма всех элементов: \", summ_all)\n",
    "pos_summ = np.sum(a[a > 0])\n",
    "print(\"Сумма положительных элементов: \", pos_summ)\n",
    "neg_summ = np.sum(a[a < 0])\n",
    "print (\"Сумма отрицательных элементов: \", neg_summ)"
   ]
  },
  {
   "cell_type": "code",
   "execution_count": 7,
   "id": "084868e6-44b9-4815-bc60-4514c18e330b",
   "metadata": {},
   "outputs": [
    {
     "name": "stdout",
     "output_type": "stream",
     "text": [
      "Единичная матрица: \n",
      " [[1. 0. 0. 0.]\n",
      " [0. 1. 0. 0.]\n",
      " [0. 0. 1. 0.]\n",
      " [0. 0. 0. 1.]]\n",
      "Диагональная матрица:\n",
      " [[ 5  0  0  0]\n",
      " [ 0 10  0  0]\n",
      " [ 0  0 15  0]\n",
      " [ 0  0  0 20]]\n",
      "Сумма элементов единичной матрицы: \n",
      " 4.0\n",
      "Сумма элементов диагональной матрицы: \n",
      " 50\n",
      "По результатам сумма элементов диагональной матрицы оказалась больше, чем единичной.\n"
     ]
    }
   ],
   "source": [
    "edm = np.identity(4)\n",
    "print(\"Единичная матрица: \\n\", edm)\n",
    "diagm = np.diag([5, 10, 15, 20])\n",
    "print(\"Диагональная матрица:\\n\", diagm)\n",
    "edm_summ = np.sum(edm)\n",
    "print(\"Сумма элементов единичной матрицы: \\n\", edm_summ)\n",
    "diagm_summ = np.sum(diagm)\n",
    "print (\"Сумма элементов диагональной матрицы: \\n\", diagm_summ)\n",
    "print(\"По результатам сумма элементов диагональной матрицы оказалась больше, чем единичной.\")"
   ]
  },
  {
   "cell_type": "code",
   "execution_count": 8,
   "id": "5f8d19a5-7bb7-4447-9d23-16c89938e509",
   "metadata": {},
   "outputs": [
    {
     "name": "stdout",
     "output_type": "stream",
     "text": [
      "Первая матрица:\n",
      " [[ 3 14  6]\n",
      " [10 16  4]\n",
      " [ 4  8 20]]\n",
      "Вторая матрица: \n",
      " [[20 12 12]\n",
      " [11  8  2]\n",
      " [ 5 17 15]]\n",
      "CyMMa:  [[23 26 18]\n",
      " [21 24  6]\n",
      " [ 9 25 35]]\n",
      "Разница:  [[-17   2  -6]\n",
      " [ -1   8   2]\n",
      " [ -1  -9   5]]\n",
      "Произведение:  [[ 60 168  72]\n",
      " [110 128   8]\n",
      " [ 20 136 300]]\n"
     ]
    }
   ],
   "source": [
    "a = np.random.randint(1, 21, (3, 3))\n",
    "print(\"Первая матрица:\\n\", a)\n",
    "b = np.random.randint(1, 21, (3, 3))\n",
    "print(\"Вторая матрица: \\n\", b)\n",
    "summ = a + b\n",
    "print(\"CyMMa: \", summ)\n",
    "razn = a - b\n",
    "print (\"Разница: \", razn)\n",
    "proz = a * b\n",
    "print(\"Произведение: \", proz)"
   ]
  },
  {
   "cell_type": "code",
   "execution_count": 9,
   "id": "467c019e-00a8-4d7a-966a-eb6b2ae07a41",
   "metadata": {},
   "outputs": [
    {
     "name": "stdout",
     "output_type": "stream",
     "text": [
      "Первая матрица:\n",
      " [[3 6 7]\n",
      " [2 3 6]]\n",
      "Вторая матрица: \n",
      " [[6 2]\n",
      " [5 2]\n",
      " [3 6]]\n",
      "Матричное умножение: \n",
      " [[69 60]\n",
      " [45 46]]\n"
     ]
    }
   ],
   "source": [
    "a = np.random.randint(1, 11, (2, 3))\n",
    "print (\"Первая матрица:\\n\", a)\n",
    "b = np.random.randint(1, 11, (3, 2))\n",
    "print(\"Вторая матрица: \\n\", b)\n",
    "mult = a @ b\n",
    "print(\"Матричное умножение: \\n\", mult)"
   ]
  },
  {
   "cell_type": "code",
   "execution_count": 10,
   "id": "ce245e12-9565-4e6a-bef6-6192ff51bc82",
   "metadata": {},
   "outputs": [
    {
     "name": "stdout",
     "output_type": "stream",
     "text": [
      "Матрица: \n",
      " [[10 15  6]\n",
      " [10 16  7]\n",
      " [20 18  2]]\n",
      "Определитель: \n",
      " 19.999999999999954\n",
      "Обратная матрица: \n",
      " [[-4.7   3.9   0.45]\n",
      " [ 6.   -5.   -0.5 ]\n",
      " [-7.    6.    0.5 ]]\n"
     ]
    }
   ],
   "source": [
    "a = np.random.randint(1, 21, (3, 3))\n",
    "print (\"Матрица: \\n\", a)\n",
    "det = np.linalg.det(a)\n",
    "print (\"Определитель: \\n\", det)\n",
    "if np.isclose(det, 0):\n",
    "    inv = \"Матрица вырождена\"\n",
    "else:\n",
    "    inv = np.linalg.inv(a)\n",
    "print(\"Обратная матрица: \\n\", inv)"
   ]
  },
  {
   "cell_type": "code",
   "execution_count": 11,
   "id": "725ccad4-9a3e-46ff-9676-aaa61aae23d2",
   "metadata": {},
   "outputs": [
    {
     "name": "stdout",
     "output_type": "stream",
     "text": [
      "Матрица: \n",
      " [[14 30  2 31]\n",
      " [ 6  5  5 42]\n",
      " [29 32 18  7]\n",
      " [ 2  8  1 43]]\n",
      "Транспонированная матрица:\n",
      " [[14  6 29  2]\n",
      " [30  5 32  8]\n",
      " [ 2  5 18  1]\n",
      " [31 42  7 43]]\n",
      "След матрицы:\n",
      " 80\n"
     ]
    }
   ],
   "source": [
    "a = np.random.randint(1, 51, (4, 4))\n",
    "print (\"Матрица: \\n\", a)\n",
    "transp = a.T\n",
    "print(\"Транспонированная матрица:\\n\", transp)\n",
    "value = np.trace(a)\n",
    "print (\"След матрицы:\\n\", value)"
   ]
  },
  {
   "cell_type": "code",
   "execution_count": 12,
   "id": "9d73560a-2788-4b18-a4f7-42f8cda21934",
   "metadata": {},
   "outputs": [
    {
     "name": "stdout",
     "output_type": "stream",
     "text": [
      "Решение системы:  [1.63963964 0.57657658 0.00900901]\n"
     ]
    }
   ],
   "source": [
    "A = np.array([[2, 3, -1],\n",
    "[4, -1, 2],\n",
    "[-3, 5, 4]])\n",
    "B = np.array([5, 6, -2])\n",
    "result = np.linalg.solve(A, B)\n",
    "print (\"Решение системы: \", result)"
   ]
  },
  {
   "cell_type": "code",
   "execution_count": 13,
   "id": "2c3c641e-4ac2-4058-adac-e7ec652510fd",
   "metadata": {},
   "outputs": [
    {
     "name": "stdout",
     "output_type": "stream",
     "text": [
      "Метод Крамера:  [26785.71428571 53571.42857143 69642.85714286]\n",
      "Метод матричного уравнения:  [26785.71428571 53571.42857143 69642.85714286]\n",
      "Библиотека NumPy:  [26785.71428571 53571.42857143 69642.85714286]\n"
     ]
    }
   ],
   "source": [
    "A = np.array([[2, -1, 0],    # Уравнение 1: 2x - y = 0 - жильё\n",
    "              [0, -1.3, 1],  # Уравнение 2: -1.3y + z = 0 - питание\n",
    "              [1, 1, 1]])      # Уравнение 3: x + y + z = 150000 - общий бюджет\n",
    "\n",
    "# Вектор правых частей\n",
    "B = np.array([0, 0, 150000])\n",
    "\n",
    "# Решение методом Крамера\n",
    "det_A = np.linalg.det(A)\n",
    "\n",
    "if det_A != 0:\n",
    "    # Заменяем столбцы по очереди на вектор B\n",
    "    kram1 = np.linalg.det(np.column_stack([B, A[:, 1], A[:, 2]])) / det_A  # Для x\n",
    "    kram2 = np.linalg.det(np.column_stack([A[:, 0], B, A[:, 2]])) / det_A  # Для y\n",
    "    kram3 = np.linalg.det(np.column_stack([A[:, 0], A[:, 1], B])) / det_A  # Для z\n",
    "    kramer = np.array([kram1, kram2, kram3])\n",
    "else:\n",
    "    kramer = \"Метод не применим\"\n",
    "\n",
    "# Решение матричным методом\n",
    "if det_A == 0:\n",
    "    matrix = \"Метод не применим\"\n",
    "else:\n",
    "    matrix = np.linalg.inv(A).dot(B)  # Умножение обратной матрицы на вектор B\n",
    "\n",
    "# Решение с помощью встроенной функции NumPy\n",
    "numpy_solution = np.linalg.solve(A, B)\n",
    "\n",
    "print(\"Метод Крамера: \", kramer)\n",
    "print(\"Метод матричного уравнения: \", matrix)\n",
    "print(\"Библиотека NumPy: \", numpy_solution)"
   ]
  },
  {
   "cell_type": "code",
   "execution_count": null,
   "id": "37d3a443-1277-47a0-890a-655c8592f5d2",
   "metadata": {},
   "outputs": [],
   "source": []
  }
 ],
 "metadata": {
  "kernelspec": {
   "display_name": "Python 3 (ipykernel)",
   "language": "python",
   "name": "python3"
  },
  "language_info": {
   "codemirror_mode": {
    "name": "ipython",
    "version": 3
   },
   "file_extension": ".py",
   "mimetype": "text/x-python",
   "name": "python",
   "nbconvert_exporter": "python",
   "pygments_lexer": "ipython3",
   "version": "3.12.7"
  }
 },
 "nbformat": 4,
 "nbformat_minor": 5
}
